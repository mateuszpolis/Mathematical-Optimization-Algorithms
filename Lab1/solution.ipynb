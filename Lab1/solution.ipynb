{
 "cells": [
  {
   "cell_type": "markdown",
   "metadata": {},
   "source": [
    "# Operating Income Maximization for a Tea Producer Company"
   ]
  },
  {
   "cell_type": "markdown",
   "metadata": {},
   "source": [
    "## Install and Import Libraries"
   ]
  },
  {
   "cell_type": "code",
   "execution_count": 104,
   "metadata": {},
   "outputs": [
    {
     "name": "stdout",
     "output_type": "stream",
     "text": [
      "Requirement already satisfied: pulp in /opt/homebrew/anaconda3/lib/python3.12/site-packages (2.9.0)\n",
      "Note: you may need to restart the kernel to use updated packages.\n"
     ]
    }
   ],
   "source": [
    "pip install pulp"
   ]
  },
  {
   "cell_type": "code",
   "execution_count": 105,
   "metadata": {},
   "outputs": [],
   "source": [
    "import pulp"
   ]
  },
  {
   "cell_type": "markdown",
   "metadata": {},
   "source": [
    "## Solve the Problem"
   ]
  },
  {
   "cell_type": "markdown",
   "metadata": {},
   "source": [
    "1. **Initialize the model and set the known parameters.**"
   ]
  },
  {
   "cell_type": "code",
   "execution_count": 106,
   "metadata": {},
   "outputs": [],
   "source": [
    "# Initialize the LP problem\n",
    "prob = pulp.LpProblem(\"Maximize_Operating_Income\", pulp.LpMaximize)"
   ]
  },
  {
   "cell_type": "code",
   "execution_count": 107,
   "metadata": {},
   "outputs": [],
   "source": [
    "# Tea types and sizes\n",
    "tea_types = ['GT', 'BT', 'WT', 'RT']\n",
    "sizes = ['50g', '100g']\n",
    "countries = ['Portugal', 'Spain', 'France', 'Italy', 'Germany', 'Poland']\n",
    "\n",
    "# Define selling prices\n",
    "selling_prices = {\n",
    "    'GT':  {'50g': 6, '100g': 10},\n",
    "    'BT':  {'50g': 7, '100g': 12},\n",
    "    'WT':  {'50g': 9, '100g': 16},\n",
    "    'RT':  {'50g': 8, '100g': 14}\n",
    "}\n",
    "\n",
    "# Define buying prices (per 100g)\n",
    "buying_prices = {\n",
    "    'GT':  3.5,\n",
    "    'BT':  4.5,\n",
    "    'WT':  5.5,\n",
    "    'RT':  5\n",
    "}\n",
    "\n",
    "# Define distribution costs per country\n",
    "distribution_costs = {\n",
    "    'Portugal': 0.5,\n",
    "    'Spain': 0.4,\n",
    "    'France': 0.6,\n",
    "    'Italy': 0.7,\n",
    "    'Germany': 0.8,\n",
    "    'Poland': 1.0\n",
    "}\n",
    "\n",
    "# Define demand forecast per country per product per size\n",
    "demand_forecast = {\n",
    "    'Portugal': {\n",
    "        'GT': {'50g': 100, '100g': 80},\n",
    "        'BT': {'50g': 90, '100g': 70},\n",
    "        'WT': {'50g': 50, '100g': 40},\n",
    "        'RT': {'50g': 60, '100g': 50}\n",
    "    },\n",
    "    'Spain': {\n",
    "        'GT': {'50g': 150, '100g': 120},\n",
    "        'BT': {'50g': 130, '100g': 110},\n",
    "        'WT': {'50g': 80, '100g': 60},\n",
    "        'RT': {'50g': 100, '100g': 90}\n",
    "    },\n",
    "    'France': {\n",
    "        'GT': {'50g': 200, '100g': 170},\n",
    "        'BT': {'50g': 180, '100g': 160},\n",
    "        'WT': {'50g': 100, '100g': 90},\n",
    "        'RT': {'50g': 120, '100g': 110}\n",
    "    },\n",
    "    'Italy': {\n",
    "        'GT': {'50g': 130, '100g': 110},\n",
    "        'BT': {'50g': 120, '100g': 100},\n",
    "        'WT': {'50g': 70, '100g': 60},\n",
    "        'RT': {'50g': 90, '100g': 80}\n",
    "    },\n",
    "    'Germany': {\n",
    "        'GT': {'50g': 180, '100g': 160},\n",
    "        'BT': {'50g': 170, '100g': 150},\n",
    "        'WT': {'50g': 90, '100g': 80},\n",
    "        'RT': {'50g': 110, '100g': 100}\n",
    "    },\n",
    "    'Poland': {\n",
    "        'GT': {'50g': 120, '100g': 100},\n",
    "        'BT': {'50g': 110, '100g': 90},\n",
    "        'WT': {'50g': 60, '100g': 50},\n",
    "        'RT': {'50g': 80, '100g': 70}\n",
    "    }\n",
    "}\n",
    "\n",
    "# Raw material availability (grams)\n",
    "available_tea = {\n",
    "    'GT': 25000000,\n",
    "    'BT': 30000000,\n",
    "    'WT': 15000000,\n",
    "    'RT': 20000000\n",
    "}"
   ]
  },
  {
   "cell_type": "markdown",
   "metadata": {},
   "source": [
    "2. **Define the decision variables.**"
   ]
  },
  {
   "cell_type": "code",
   "execution_count": 108,
   "metadata": {},
   "outputs": [],
   "source": [
    "# Create decision variables\n",
    "x = {\n",
    "    (i, j, k): pulp.LpVariable(f\"Boxes_{i}_{j}_{k}\", \n",
    "                               lowBound=demand_forecast[k][i][j], \n",
    "                               cat='Integer')\n",
    "    for i in tea_types \n",
    "    for j in sizes \n",
    "    for k in countries\n",
    "}\n"
   ]
  },
  {
   "cell_type": "code",
   "execution_count": 109,
   "metadata": {},
   "outputs": [],
   "source": [
    "# Total production variable\n",
    "T = pulp.LpVariable(\"Total_Production\", lowBound=0, cat='Integer')"
   ]
  },
  {
   "cell_type": "markdown",
   "metadata": {},
   "source": [
    "3. **Add constraints.**"
   ]
  },
  {
   "cell_type": "markdown",
   "metadata": {},
   "source": [
    "  1. The total amount of tea produced should not exceed the total capacity of the factory."
   ]
  },
  {
   "cell_type": "code",
   "execution_count": 110,
   "metadata": {},
   "outputs": [],
   "source": [
    "# Total production constraint\n",
    "prob += T == pulp.lpSum([x[(i,j,k)] for i in tea_types for j in sizes for k in countries]), \"Total_Production_Definition\"\n",
    "\n",
    "# Total production capacity constraint\n",
    "prob += T <= 2000000, \"Total_Production_Capacity\""
   ]
  },
  {
   "cell_type": "markdown",
   "metadata": {},
   "source": [
    "  2. The total amount of tea produced should not exceed the total raw material available for each type of tea."
   ]
  },
  {
   "cell_type": "code",
   "execution_count": 111,
   "metadata": {},
   "outputs": [],
   "source": [
    "# Raw material availability constraints\n",
    "for i in tea_types:\n",
    "    prob += pulp.lpSum([\n",
    "        int(j[:-1]) * x[(i,j,k)] for j in sizes for k in countries\n",
    "    ]) <= available_tea[i], f\"Raw_Material_{i}\""
   ]
  },
  {
   "cell_type": "markdown",
   "metadata": {},
   "source": [
    "  3. At least 10% of production should be allocated to each type of tea."
   ]
  },
  {
   "cell_type": "code",
   "execution_count": 112,
   "metadata": {},
   "outputs": [],
   "source": [
    "# Minimum production requirement constraints\n",
    "for i in tea_types:\n",
    "    prob += pulp.lpSum([x[(i,j,k)] for j in sizes for k in countries]) >= 0.10 * T, f\"Min_Production_{i}\""
   ]
  },
  {
   "cell_type": "markdown",
   "metadata": {},
   "source": [
    "4. **Calculate the profit per unit of each type of tea.**"
   ]
  },
  {
   "cell_type": "code",
   "execution_count": 113,
   "metadata": {},
   "outputs": [],
   "source": [
    "# Calculating profit per box for each product\n",
    "profit = {}\n",
    "for i in tea_types:\n",
    "    for j in sizes:\n",
    "        selling_price = selling_prices[i][j]\n",
    "        cost = buying_prices[i] * int(j[:-1]) / 100\n",
    "        profit[(i, j)] = selling_price - cost"
   ]
  },
  {
   "cell_type": "markdown",
   "metadata": {},
   "source": [
    "5. **Set the objective function.**"
   ]
  },
  {
   "cell_type": "code",
   "execution_count": 114,
   "metadata": {},
   "outputs": [],
   "source": [
    "# Define production cost per box\n",
    "PRODUCTION_COST = 1\n",
    "\n",
    "# Add the objective function\n",
    "prob += pulp.lpSum([(profit[(i,j)] - (distribution_costs[k] + PRODUCTION_COST)) * x[(i,j,k)] \n",
    "                     for i in tea_types for j in sizes for k in countries ])"
   ]
  },
  {
   "cell_type": "markdown",
   "metadata": {},
   "source": [
    "6. **Solve the model.**"
   ]
  },
  {
   "cell_type": "code",
   "execution_count": 115,
   "metadata": {},
   "outputs": [
    {
     "name": "stdout",
     "output_type": "stream",
     "text": [
      "Welcome to the CBC MILP Solver \n",
      "Version: 2.10.3 \n",
      "Build Date: Dec 15 2019 \n",
      "\n",
      "command line - /opt/homebrew/anaconda3/lib/python3.12/site-packages/pulp/solverdir/cbc/osx/64/cbc /var/folders/8l/df7brwpx0vj8qwl22c82bj5w0000gn/T/b103edb904eb49bc9bc89dfad03322f6-pulp.mps -max -timeMode elapsed -branch -printingOptions all -solution /var/folders/8l/df7brwpx0vj8qwl22c82bj5w0000gn/T/b103edb904eb49bc9bc89dfad03322f6-pulp.sol (default strategy 1)\n",
      "At line 2 NAME          MODEL\n",
      "At line 3 ROWS\n",
      "At line 15 COLUMNS\n",
      "At line 312 RHS\n",
      "At line 323 BOUNDS\n",
      "At line 373 ENDATA\n",
      "Problem MODEL has 10 rows, 49 columns and 150 elements\n",
      "Coin0008I MODEL read with 0 errors\n",
      "Option for timeMode changed from cpu to elapsed\n",
      "Continuous objective value is 6.52729e+06 - 0.00 seconds\n",
      "Cgl0004I processed model has 9 rows, 49 columns (49 integer (0 of which binary)) and 149 elements\n",
      "Cutoff increment increased from 1e-05 to 0.04995\n",
      "Cbc0012I Integer solution of -6527288 found by DiveCoefficient after 0 iterations and 0 nodes (0.01 seconds)\n",
      "Cbc0001I Search completed - best objective -6527288, took 0 iterations and 0 nodes (0.01 seconds)\n",
      "Cbc0035I Maximum depth 0, 0 variables fixed on reduced cost\n",
      "Cuts at root node changed objective from -6.52729e+06 to -6.52729e+06\n",
      "Probing was tried 0 times and created 0 cuts of which 0 were active after adding rounds of cuts (0.000 seconds)\n",
      "Gomory was tried 0 times and created 0 cuts of which 0 were active after adding rounds of cuts (0.000 seconds)\n",
      "Knapsack was tried 0 times and created 0 cuts of which 0 were active after adding rounds of cuts (0.000 seconds)\n",
      "Clique was tried 0 times and created 0 cuts of which 0 were active after adding rounds of cuts (0.000 seconds)\n",
      "MixedIntegerRounding2 was tried 0 times and created 0 cuts of which 0 were active after adding rounds of cuts (0.000 seconds)\n",
      "FlowCover was tried 0 times and created 0 cuts of which 0 were active after adding rounds of cuts (0.000 seconds)\n",
      "TwoMirCuts was tried 0 times and created 0 cuts of which 0 were active after adding rounds of cuts (0.000 seconds)\n",
      "ZeroHalf was tried 0 times and created 0 cuts of which 0 were active after adding rounds of cuts (0.000 seconds)\n",
      "\n",
      "Result - Optimal solution found\n",
      "\n",
      "Objective value:                6527288.00000000\n",
      "Enumerated nodes:               0\n",
      "Total iterations:               0\n",
      "Time (CPU seconds):             0.00\n",
      "Time (Wallclock seconds):       0.01\n",
      "\n",
      "Option for printingOptions changed from normal to all\n",
      "Total time (CPU seconds):       0.00   (Wallclock seconds):       0.02\n",
      "\n"
     ]
    },
    {
     "data": {
      "text/plain": [
       "1"
      ]
     },
     "execution_count": 115,
     "metadata": {},
     "output_type": "execute_result"
    }
   ],
   "source": [
    "# Solve the LP problem\n",
    "prob.solve()"
   ]
  },
  {
   "cell_type": "markdown",
   "metadata": {},
   "source": [
    "7. **Print the results.**"
   ]
  },
  {
   "cell_type": "code",
   "execution_count": 116,
   "metadata": {},
   "outputs": [],
   "source": [
    "# Define fixed costs\n",
    "MARKETING_COST = 400000\n",
    "ANUAL_COST = 4000000"
   ]
  },
  {
   "cell_type": "code",
   "execution_count": 117,
   "metadata": {},
   "outputs": [
    {
     "name": "stdout",
     "output_type": "stream",
     "text": [
      "Status: Optimal\n",
      "\n",
      "Optimal Production and Distribution Plan:\n",
      "Boxes_BT_100g_France = 160.0\n",
      "Boxes_BT_100g_Germany = 150.0\n",
      "Boxes_BT_100g_Italy = 100.0\n",
      "Boxes_BT_100g_Poland = 90.0\n",
      "Boxes_BT_100g_Portugal = 70.0\n",
      "Boxes_BT_100g_Spain = 110.0\n",
      "Boxes_BT_50g_France = 180.0\n",
      "Boxes_BT_50g_Germany = 170.0\n",
      "Boxes_BT_50g_Italy = 120.0\n",
      "Boxes_BT_50g_Poland = 110.0\n",
      "Boxes_BT_50g_Portugal = 90.0\n",
      "Boxes_BT_50g_Spain = 597970.0\n",
      "Boxes_GT_100g_France = 170.0\n",
      "Boxes_GT_100g_Germany = 160.0\n",
      "Boxes_GT_100g_Italy = 110.0\n",
      "Boxes_GT_100g_Poland = 100.0\n",
      "Boxes_GT_100g_Portugal = 80.0\n",
      "Boxes_GT_100g_Spain = 120.0\n",
      "Boxes_GT_50g_France = 200.0\n",
      "Boxes_GT_50g_Germany = 180.0\n",
      "Boxes_GT_50g_Italy = 130.0\n",
      "Boxes_GT_50g_Poland = 120.0\n",
      "Boxes_GT_50g_Portugal = 100.0\n",
      "Boxes_GT_50g_Spain = 497790.0\n",
      "Boxes_RT_100g_France = 110.0\n",
      "Boxes_RT_100g_Germany = 100.0\n",
      "Boxes_RT_100g_Italy = 80.0\n",
      "Boxes_RT_100g_Poland = 70.0\n",
      "Boxes_RT_100g_Portugal = 50.0\n",
      "Boxes_RT_100g_Spain = 90.0\n",
      "Boxes_RT_50g_France = 120.0\n",
      "Boxes_RT_50g_Germany = 110.0\n",
      "Boxes_RT_50g_Italy = 90.0\n",
      "Boxes_RT_50g_Poland = 80.0\n",
      "Boxes_RT_50g_Portugal = 60.0\n",
      "Boxes_RT_50g_Spain = 398540.0\n",
      "Boxes_WT_100g_France = 90.0\n",
      "Boxes_WT_100g_Germany = 80.0\n",
      "Boxes_WT_100g_Italy = 60.0\n",
      "Boxes_WT_100g_Poland = 50.0\n",
      "Boxes_WT_100g_Portugal = 40.0\n",
      "Boxes_WT_100g_Spain = 60.0\n",
      "Boxes_WT_50g_France = 100.0\n",
      "Boxes_WT_50g_Germany = 90.0\n",
      "Boxes_WT_50g_Italy = 70.0\n",
      "Boxes_WT_50g_Poland = 60.0\n",
      "Boxes_WT_50g_Portugal = 50.0\n",
      "Boxes_WT_50g_Spain = 298870.0\n",
      "Total_Production = 1797700.0\n",
      "\n",
      "Total Contribution Margin (before fixed costs) = $6,527,288.00\n",
      "Total Operating Income (after fixed costs) = $2,127,288.00\n"
     ]
    }
   ],
   "source": [
    "# Output results\n",
    "print(\"Status:\", pulp.LpStatus[prob.status])\n",
    "print()\n",
    "print(\"Optimal Production and Distribution Plan:\")\n",
    "for v in prob.variables():\n",
    "    if v.varValue > 0:\n",
    "        print(f\"{v.name} = {v.varValue}\")\n",
    "print()\n",
    "\n",
    "# Calculate total operating income after subtracting fixed costs\n",
    "total_contribution_margin = pulp.value(prob.objective)\n",
    "total_operating_income = total_contribution_margin - MARKETING_COST - ANUAL_COST\n",
    "\n",
    "print(\"Total Contribution Margin (before fixed costs) = ${0:,.2f}\".format(total_contribution_margin))\n",
    "print(\"Total Operating Income (after fixed costs) = ${0:,.2f}\".format(total_operating_income))"
   ]
  },
  {
   "cell_type": "markdown",
   "metadata": {},
   "source": [
    "We notice that the Production Capacity limit has not been reached, so we verify that all the raw materials have been used and that the minimum production of each type of tea has been met."
   ]
  },
  {
   "cell_type": "code",
   "execution_count": 118,
   "metadata": {},
   "outputs": [
    {
     "name": "stdout",
     "output_type": "stream",
     "text": [
      "\n",
      "Production Shares by Tea Type:\n",
      "GT: 499260.0 boxes, Share: 27.77%\n",
      "BT: 599320.0 boxes, Share: 33.34%\n",
      "WT: 299620.0 boxes, Share: 16.67%\n",
      "RT: 399500.0 boxes, Share: 22.22%\n",
      "\n",
      "Raw Material Usage:\n",
      "GT = 25000000.0 grams\n",
      "BT = 30000000.0 grams\n",
      "WT = 15000000.0 grams\n",
      "RT = 20000000.0 grams\n"
     ]
    }
   ],
   "source": [
    "# Calculate the total production to verify minimum production requirement\n",
    "total_production = 0\n",
    "production_by_tea_type = {i: 0 for i in tea_types}\n",
    "\n",
    "# Sum up all production for each tea type, and calculate total production\n",
    "for i in tea_types:\n",
    "    for j in sizes:\n",
    "        for k in countries:\n",
    "            var_name = f\"Boxes_{i}_{j}_{k}\"\n",
    "            if var_name in prob.variablesDict():\n",
    "                var_value = prob.variablesDict()[var_name].varValue\n",
    "                if var_value and var_value > 0:\n",
    "                    # Update total production by tea type and overall\n",
    "                    production_by_tea_type[i] += var_value\n",
    "                    total_production += var_value\n",
    "\n",
    "# Print the total production and share for each tea type\n",
    "print(\"\\nProduction Shares by Tea Type:\")\n",
    "for i in tea_types:\n",
    "    share = (production_by_tea_type[i] / total_production) * 100 if total_production > 0 else 0\n",
    "    print(f\"{i}: {production_by_tea_type[i]} boxes, Share: {share:.2f}%\")\n",
    "\n",
    "    # Debugging check to ensure the 10% minimum requirement is met\n",
    "    min_required = 0.10 * T\n",
    "    if production_by_tea_type[i] < 0.1:\n",
    "        print(f\"Warning: Production for {i} ({production_by_tea_type[i]} boxes) is below the minimum requirement of {min_required} boxes.\")\n",
    "\n",
    "# Print raw material usage as before\n",
    "print(\"\\nRaw Material Usage:\")\n",
    "for i in tea_types:\n",
    "    total_grams = 0\n",
    "    for j in sizes:\n",
    "        for k in countries:\n",
    "            var_name = f\"Boxes_{i}_{j}_{k}\"\n",
    "            if var_name in prob.variablesDict():\n",
    "                var_value = prob.variablesDict()[var_name].varValue\n",
    "                if var_value and var_value > 0:\n",
    "                    total_grams += var_value * int(j[:-1])\n",
    "    print(f\"{i} = {total_grams} grams\")\n"
   ]
  }
 ],
 "metadata": {
  "kernelspec": {
   "display_name": "Python 3",
   "language": "python",
   "name": "python3"
  },
  "language_info": {
   "codemirror_mode": {
    "name": "ipython",
    "version": 3
   },
   "file_extension": ".py",
   "mimetype": "text/x-python",
   "name": "python",
   "nbconvert_exporter": "python",
   "pygments_lexer": "ipython3",
   "version": "3.12.4"
  }
 },
 "nbformat": 4,
 "nbformat_minor": 2
}
