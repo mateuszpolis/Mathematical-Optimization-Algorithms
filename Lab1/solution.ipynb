{
 "cells": [
  {
   "cell_type": "markdown",
   "metadata": {},
   "source": [
    "# Operating Income Maximization for a Tea Producer Company"
   ]
  },
  {
   "cell_type": "markdown",
   "metadata": {},
   "source": [
    "## Install and Import Libraries"
   ]
  },
  {
   "cell_type": "code",
   "execution_count": 1,
   "metadata": {},
   "outputs": [
    {
     "name": "stdout",
     "output_type": "stream",
     "text": [
      "Requirement already satisfied: pulp in /opt/homebrew/anaconda3/lib/python3.12/site-packages (2.9.0)\n",
      "Note: you may need to restart the kernel to use updated packages.\n"
     ]
    }
   ],
   "source": [
    "pip install pulp"
   ]
  },
  {
   "cell_type": "code",
   "execution_count": 2,
   "metadata": {},
   "outputs": [],
   "source": [
    "import pulp"
   ]
  },
  {
   "cell_type": "markdown",
   "metadata": {},
   "source": [
    "## Solve the Problem"
   ]
  },
  {
   "cell_type": "markdown",
   "metadata": {},
   "source": [
    "1. **Initialize the model and set the known parameters.**"
   ]
  },
  {
   "cell_type": "code",
   "execution_count": 3,
   "metadata": {},
   "outputs": [],
   "source": [
    "# Initialize the LP problem\n",
    "prob = pulp.LpProblem(\"Maximize_Operating_Income\", pulp.LpMaximize)"
   ]
  },
  {
   "cell_type": "code",
   "execution_count": 4,
   "metadata": {},
   "outputs": [],
   "source": [
    "# Tea types and sizes\n",
    "tea_types = ['GT', 'BT', 'WT', 'RT']\n",
    "sizes = ['50g', '100g']\n",
    "countries = ['Portugal', 'Spain', 'France', 'Italy', 'Germany', 'Poland']\n",
    "\n",
    "# Define selling prices\n",
    "selling_prices = {\n",
    "    'GT':  {'50g': 6, '100g': 10},\n",
    "    'BT':  {'50g': 7, '100g': 12},\n",
    "    'WT':  {'50g': 9, '100g': 16},\n",
    "    'RT':  {'50g': 8, '100g': 14}\n",
    "}\n",
    "\n",
    "# Define buying prices (per 100g)\n",
    "buying_prices = {\n",
    "    'GT':  3.5,\n",
    "    'BT':  4.5,\n",
    "    'WT':  5.5,\n",
    "    'RT':  5\n",
    "}\n",
    "\n",
    "# Define distribution costs per country\n",
    "distribution_costs = {\n",
    "    'Portugal': 0.5,\n",
    "    'Spain': 0.4,\n",
    "    'France': 0.6,\n",
    "    'Italy': 0.7,\n",
    "    'Germany': 0.8,\n",
    "    'Poland': 1.0\n",
    "}\n",
    "\n",
    "# Define demand forecast per country per product per size (in thousands)\n",
    "demand_forecast = {\n",
    "    'Portugal': {\n",
    "        'GT': {'50g': 100, '100g': 80},\n",
    "        'BT': {'50g': 90, '100g': 70},\n",
    "        'WT': {'50g': 50, '100g': 40},\n",
    "        'RT': {'50g': 60, '100g': 50}\n",
    "    },\n",
    "    'Spain': {\n",
    "        'GT': {'50g': 150, '100g': 120},\n",
    "        'BT': {'50g': 130, '100g': 110},\n",
    "        'WT': {'50g': 80, '100g': 60},\n",
    "        'RT': {'50g': 100, '100g': 90}\n",
    "    },\n",
    "    'France': {\n",
    "        'GT': {'50g': 200, '100g': 170},\n",
    "        'BT': {'50g': 180, '100g': 160},\n",
    "        'WT': {'50g': 100, '100g': 90},\n",
    "        'RT': {'50g': 120, '100g': 110}\n",
    "    },\n",
    "    'Italy': {\n",
    "        'GT': {'50g': 130, '100g': 110},\n",
    "        'BT': {'50g': 120, '100g': 100},\n",
    "        'WT': {'50g': 70, '100g': 60},\n",
    "        'RT': {'50g': 90, '100g': 80}\n",
    "    },\n",
    "    'Germany': {\n",
    "        'GT': {'50g': 180, '100g': 160},\n",
    "        'BT': {'50g': 170, '100g': 150},\n",
    "        'WT': {'50g': 90, '100g': 80},\n",
    "        'RT': {'50g': 110, '100g': 100}\n",
    "    },\n",
    "    'Poland': {\n",
    "        'GT': {'50g': 120, '100g': 100},\n",
    "        'BT': {'50g': 110, '100g': 90},\n",
    "        'WT': {'50g': 60, '100g': 50},\n",
    "        'RT': {'50g': 80, '100g': 70}\n",
    "    }\n",
    "}\n",
    "\n",
    "# Raw material availability (grams)\n",
    "available_tea = {\n",
    "    'GT': 25000000,\n",
    "    'BT': 30000000,\n",
    "    'WT': 15000000,\n",
    "    'RT': 20000000\n",
    "}"
   ]
  },
  {
   "cell_type": "markdown",
   "metadata": {},
   "source": [
    "2. **Define the decision variables.**"
   ]
  },
  {
   "cell_type": "code",
   "execution_count": 5,
   "metadata": {},
   "outputs": [],
   "source": [
    "# Create decision variables\n",
    "x = pulp.LpVariable.dicts(\"Boxes\",\n",
    "                          [(i, j, k) for i in tea_types for j in sizes for k in countries],\n",
    "                          lowBound=0,\n",
    "                          cat='Integer')"
   ]
  },
  {
   "cell_type": "code",
   "execution_count": 6,
   "metadata": {},
   "outputs": [],
   "source": [
    "# Total production variable\n",
    "T = pulp.LpVariable(\"Total_Production\", lowBound=0, cat='Integer')"
   ]
  },
  {
   "cell_type": "markdown",
   "metadata": {},
   "source": [
    "3. **Add constraints.**"
   ]
  },
  {
   "cell_type": "markdown",
   "metadata": {},
   "source": [
    "  1. The total amount of tea produced should not exceed the total capacity of the factory."
   ]
  },
  {
   "cell_type": "code",
   "execution_count": 7,
   "metadata": {},
   "outputs": [],
   "source": [
    "# Total production constraint\n",
    "prob += T == pulp.lpSum([x[(i,j,k)] for i in tea_types for j in sizes for k in countries]), \"Total_Production_Definition\"\n",
    "\n",
    "# Total production capacity constraint\n",
    "prob += T <= 2000000, \"Total_Production_Capacity\""
   ]
  },
  {
   "cell_type": "markdown",
   "metadata": {},
   "source": [
    "  2. The total amount of tea produced should not exceed the total raw material available for each type of tea."
   ]
  },
  {
   "cell_type": "code",
   "execution_count": 8,
   "metadata": {},
   "outputs": [],
   "source": [
    "# Raw material availability constraints\n",
    "for i in tea_types:\n",
    "    prob += pulp.lpSum([\n",
    "        int(j[:-1]) * x[(i,j,k)] for j in sizes for k in countries\n",
    "    ]) <= available_tea[i], f\"Raw_Material_{i}\""
   ]
  },
  {
   "cell_type": "markdown",
   "metadata": {},
   "source": [
    "  3. At least 10% of production should be allocated to each type of tea."
   ]
  },
  {
   "cell_type": "code",
   "execution_count": 9,
   "metadata": {},
   "outputs": [],
   "source": [
    "# Minimum production requirement constraints\n",
    "for i in tea_types:\n",
    "    prob += pulp.lpSum([x[(i,j,k)] for j in sizes for k in countries]) >= 0.10 * T, f\"Min_Production_{i}\""
   ]
  },
  {
   "cell_type": "markdown",
   "metadata": {},
   "source": [
    "  4. The total amount of tea produced should not exceed the demand forecast for each type of tea."
   ]
  },
  {
   "cell_type": "code",
   "execution_count": 10,
   "metadata": {},
   "outputs": [],
   "source": [
    "# Add demand constraints\n",
    "for k in countries:\n",
    "    for i in tea_types:\n",
    "        for j in sizes:\n",
    "            prob += x[(i,j,k)] <= demand_forecast[k][i][j] * 1000, f\"demand_forecast_{i}_{j}_{k}\""
   ]
  },
  {
   "cell_type": "markdown",
   "metadata": {},
   "source": [
    "4. **Calculate the profit per unit of each type of tea.**"
   ]
  },
  {
   "cell_type": "code",
   "execution_count": 11,
   "metadata": {},
   "outputs": [],
   "source": [
    "# Calculating profit per box for each product\n",
    "profit = {}\n",
    "for i in tea_types:\n",
    "    for j in sizes:\n",
    "        selling_price = selling_prices[i][j]\n",
    "        cost = buying_prices[i] * int(j[:-1]) / 100\n",
    "        profit[(i, j)] = selling_price - cost"
   ]
  },
  {
   "cell_type": "markdown",
   "metadata": {},
   "source": [
    "5. **Set the objective function.**"
   ]
  },
  {
   "cell_type": "code",
   "execution_count": 12,
   "metadata": {},
   "outputs": [],
   "source": [
    "# Define production cost per box\n",
    "PRODUCTION_COST = 1\n",
    "\n",
    "# Add the objective function\n",
    "prob += pulp.lpSum([(profit[(i,j)] - (distribution_costs[k] + PRODUCTION_COST)) * x[(i,j,k)] \n",
    "                     for i in tea_types for j in sizes for k in countries ])"
   ]
  },
  {
   "cell_type": "markdown",
   "metadata": {},
   "source": [
    "6. **Solve the model.**"
   ]
  },
  {
   "cell_type": "code",
   "execution_count": 13,
   "metadata": {},
   "outputs": [
    {
     "name": "stdout",
     "output_type": "stream",
     "text": [
      "Welcome to the CBC MILP Solver \n",
      "Version: 2.10.3 \n",
      "Build Date: Dec 15 2019 \n",
      "\n",
      "command line - /opt/homebrew/anaconda3/lib/python3.12/site-packages/pulp/solverdir/cbc/osx/64/cbc /var/folders/8l/df7brwpx0vj8qwl22c82bj5w0000gn/T/2f74fb13b1224b89938571808db2dca0-pulp.mps -max -timeMode elapsed -branch -printingOptions all -solution /var/folders/8l/df7brwpx0vj8qwl22c82bj5w0000gn/T/2f74fb13b1224b89938571808db2dca0-pulp.sol (default strategy 1)\n",
      "At line 2 NAME          MODEL\n",
      "At line 3 ROWS\n",
      "At line 63 COLUMNS\n",
      "At line 408 RHS\n",
      "At line 467 BOUNDS\n",
      "At line 517 ENDATA\n",
      "Problem MODEL has 58 rows, 49 columns and 198 elements\n",
      "Coin0008I MODEL read with 0 errors\n",
      "Option for timeMode changed from cpu to elapsed\n",
      "Continuous objective value is 6.248e+06 - 0.00 seconds\n",
      "Cgl0004I processed model has 9 rows, 49 columns (49 integer (0 of which binary)) and 149 elements\n",
      "Cutoff increment increased from 1e-05 to 0.04995\n",
      "Cbc0012I Integer solution of -6248000 found by DiveCoefficient after 0 iterations and 0 nodes (0.01 seconds)\n",
      "Cbc0001I Search completed - best objective -6248000, took 0 iterations and 0 nodes (0.01 seconds)\n",
      "Cbc0035I Maximum depth 0, 0 variables fixed on reduced cost\n",
      "Cuts at root node changed objective from -6.248e+06 to -6.248e+06\n",
      "Probing was tried 0 times and created 0 cuts of which 0 were active after adding rounds of cuts (0.000 seconds)\n",
      "Gomory was tried 0 times and created 0 cuts of which 0 were active after adding rounds of cuts (0.000 seconds)\n",
      "Knapsack was tried 0 times and created 0 cuts of which 0 were active after adding rounds of cuts (0.000 seconds)\n",
      "Clique was tried 0 times and created 0 cuts of which 0 were active after adding rounds of cuts (0.000 seconds)\n",
      "MixedIntegerRounding2 was tried 0 times and created 0 cuts of which 0 were active after adding rounds of cuts (0.000 seconds)\n",
      "FlowCover was tried 0 times and created 0 cuts of which 0 were active after adding rounds of cuts (0.000 seconds)\n",
      "TwoMirCuts was tried 0 times and created 0 cuts of which 0 were active after adding rounds of cuts (0.000 seconds)\n",
      "ZeroHalf was tried 0 times and created 0 cuts of which 0 were active after adding rounds of cuts (0.000 seconds)\n",
      "\n",
      "Result - Optimal solution found\n",
      "\n",
      "Objective value:                6248000.00000000\n",
      "Enumerated nodes:               0\n",
      "Total iterations:               0\n",
      "Time (CPU seconds):             0.00\n",
      "Time (Wallclock seconds):       0.01\n",
      "\n",
      "Option for printingOptions changed from normal to all\n",
      "Total time (CPU seconds):       0.00   (Wallclock seconds):       0.02\n",
      "\n"
     ]
    },
    {
     "data": {
      "text/plain": [
       "1"
      ]
     },
     "execution_count": 13,
     "metadata": {},
     "output_type": "execute_result"
    }
   ],
   "source": [
    "# Solve the LP problem\n",
    "prob.solve()"
   ]
  },
  {
   "cell_type": "markdown",
   "metadata": {},
   "source": [
    "7. **Print the results.**"
   ]
  },
  {
   "cell_type": "code",
   "execution_count": 14,
   "metadata": {},
   "outputs": [],
   "source": [
    "# Define fixed costs\n",
    "MARKETING_COST = 400000\n",
    "ANUAL_COST = 4000000"
   ]
  },
  {
   "cell_type": "code",
   "execution_count": 15,
   "metadata": {},
   "outputs": [
    {
     "name": "stdout",
     "output_type": "stream",
     "text": [
      "Status: Optimal\n",
      "\n",
      "Optimal Production and Distribution Plan:\n",
      "Boxes_('BT',_'100g',_'Spain') = 40000.0\n",
      "Boxes_('BT',_'50g',_'France') = 180000.0\n",
      "Boxes_('BT',_'50g',_'Italy') = 120000.0\n",
      "Boxes_('BT',_'50g',_'Portugal') = 90000.0\n",
      "Boxes_('BT',_'50g',_'Spain') = 130000.0\n",
      "Boxes_('GT',_'50g',_'France') = 200000.0\n",
      "Boxes_('GT',_'50g',_'Italy') = 50000.0\n",
      "Boxes_('GT',_'50g',_'Portugal') = 100000.0\n",
      "Boxes_('GT',_'50g',_'Spain') = 150000.0\n",
      "Boxes_('RT',_'100g',_'Spain') = 15000.0\n",
      "Boxes_('RT',_'50g',_'France') = 120000.0\n",
      "Boxes_('RT',_'50g',_'Italy') = 90000.0\n",
      "Boxes_('RT',_'50g',_'Portugal') = 60000.0\n",
      "Boxes_('RT',_'50g',_'Spain') = 100000.0\n",
      "Boxes_('WT',_'50g',_'France') = 100000.0\n",
      "Boxes_('WT',_'50g',_'Italy') = 70000.0\n",
      "Boxes_('WT',_'50g',_'Portugal') = 50000.0\n",
      "Boxes_('WT',_'50g',_'Spain') = 80000.0\n",
      "Total_Production = 1745000.0\n",
      "\n",
      "Total Contribution Margin (before fixed costs) = $6,248,000.00\n",
      "Total Operating Income (after fixed costs) = $1,848,000.00\n"
     ]
    }
   ],
   "source": [
    "# Output results\n",
    "print(\"Status:\", pulp.LpStatus[prob.status])\n",
    "print()\n",
    "print(\"Optimal Production and Distribution Plan:\")\n",
    "for v in prob.variables():\n",
    "    if v.varValue > 0:\n",
    "        print(f\"{v.name} = {v.varValue}\")\n",
    "print()\n",
    "\n",
    "# Calculate total operating income after subtracting fixed costs\n",
    "total_contribution_margin = pulp.value(prob.objective)\n",
    "total_operating_income = total_contribution_margin - MARKETING_COST - ANUAL_COST\n",
    "\n",
    "print(\"Total Contribution Margin (before fixed costs) = ${0:,.2f}\".format(total_contribution_margin))\n",
    "print(\"Total Operating Income (after fixed costs) = ${0:,.2f}\".format(total_operating_income))"
   ]
  },
  {
   "cell_type": "markdown",
   "metadata": {},
   "source": [
    "We notice that the Production Capacity limit has not been reached, so we verify that all the raw materials have been used"
   ]
  },
  {
   "cell_type": "code",
   "execution_count": 16,
   "metadata": {},
   "outputs": [
    {
     "name": "stdout",
     "output_type": "stream",
     "text": [
      "\n",
      "Raw Material Usage:\n",
      "GT = 25000000.0 grams\n",
      "BT = 30000000.0 grams\n",
      "WT = 15000000.0 grams\n",
      "RT = 20000000.0 grams\n"
     ]
    }
   ],
   "source": [
    "# Calculate and print raw material usage\n",
    "print()\n",
    "print(\"Raw Material Usage:\")\n",
    "for i in tea_types:\n",
    "    total_grams = 0\n",
    "    for j in sizes:\n",
    "        for k in countries:\n",
    "            var_name = f\"Boxes_('{i}',_'{j}',_'{k}')\"\n",
    "            # Check if the variable exists\n",
    "            if var_name in prob.variablesDict():\n",
    "                var_value = prob.variablesDict()[var_name].varValue\n",
    "                if var_value and var_value > 0:                    \n",
    "                    total_grams += var_value * int(j[:-1])\n",
    "    print(f\"{i} = {total_grams} grams\")"
   ]
  }
 ],
 "metadata": {
  "kernelspec": {
   "display_name": "Python 3",
   "language": "python",
   "name": "python3"
  },
  "language_info": {
   "codemirror_mode": {
    "name": "ipython",
    "version": 3
   },
   "file_extension": ".py",
   "mimetype": "text/x-python",
   "name": "python",
   "nbconvert_exporter": "python",
   "pygments_lexer": "ipython3",
   "version": "3.12.4"
  }
 },
 "nbformat": 4,
 "nbformat_minor": 2
}
