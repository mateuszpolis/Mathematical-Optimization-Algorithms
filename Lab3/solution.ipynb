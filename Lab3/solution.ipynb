{
 "cells": [
  {
   "cell_type": "markdown",
   "metadata": {},
   "source": [
    "# Google and Facebook 2015 and 2016\n",
    "\n",
    "Import Necessary Libraries"
   ]
  },
  {
   "cell_type": "code",
   "execution_count": null,
   "metadata": {},
   "outputs": [],
   "source": [
    "# Import necessary libraries\n",
    "import pandas as pd\n",
    "import numpy as np\n",
    "import matplotlib.pyplot as plt\n",
    "%matplotlib inline\n",
    "\n",
    "from statsmodels.tsa.stattools import adfuller\n",
    "from statsmodels.tsa.holtwinters import ExponentialSmoothing\n",
    "import pmdarima as pm\n",
    "\n",
    "# Ignore warnings\n",
    "import warnings\n",
    "warnings.filterwarnings('ignore')"
   ]
  },
  {
   "cell_type": "markdown",
   "metadata": {},
   "source": [
    "Load the dataset"
   ]
  },
  {
   "cell_type": "code",
   "execution_count": null,
   "metadata": {},
   "outputs": [],
   "source": [
    "df = pd.read_csv('data.csv', parse_dates=['date'], index_col='date')\n",
    "df.head()"
   ]
  },
  {
   "cell_type": "markdown",
   "metadata": {},
   "source": [
    "## Numerical Simulation\n",
    "\n",
    "### 1. Calculate the Daily Returns for FB and GOOG Stocks\n",
    "\n",
    "**Daily Returns Calculation**:\n",
    "\n",
    "The daily return is calculated as the percentage change between the current day’s closing price and the previous day’s closing price."
   ]
  },
  {
   "cell_type": "code",
   "execution_count": null,
   "metadata": {},
   "outputs": [],
   "source": [
    "# Calculate daily returns\n",
    "daily_returns = df.pct_change().dropna()\n",
    "daily_returns.head()"
   ]
  },
  {
   "cell_type": "markdown",
   "metadata": {},
   "source": [
    "**Compute the Mean and Standard Deviation**:"
   ]
  },
  {
   "cell_type": "code",
   "execution_count": null,
   "metadata": {},
   "outputs": [],
   "source": [
    "# Compute mean of daily returns\n",
    "mean_returns = daily_returns.mean()\n",
    "print(\"Mean Daily Returns:\")\n",
    "print(mean_returns)\n",
    "\n",
    "# Compute standard deviation of daily returns\n",
    "std_returns = daily_returns.std()\n",
    "print(\"\\nStandard Deviation of Daily Returns:\")\n",
    "print(std_returns)"
   ]
  },
  {
   "cell_type": "markdown",
   "metadata": {},
   "source": [
    "### 2. Simulate the Future Price of FB and GOOG Stocks Over the Next 30 Days\n",
    "\n",
    "We’ll use the mean daily return to simulate future prices using a simple stochastic model.\n",
    "\n",
    "**Simulation Parameters**:"
   ]
  },
  {
   "cell_type": "code",
   "execution_count": null,
   "metadata": {},
   "outputs": [],
   "source": [
    "# Number of days to simulate\n",
    "num_days = 30\n",
    "\n",
    "# Last known prices\n",
    "last_price_FB = df['FB'][-1]\n",
    "last_price_GOOG = df['GOOG'][-1]"
   ]
  },
  {
   "cell_type": "markdown",
   "metadata": {},
   "source": [
    "**Simulate Future Prices**:"
   ]
  },
  {
   "cell_type": "code",
   "execution_count": null,
   "metadata": {},
   "outputs": [],
   "source": [
    "# Arrays to store simulated prices\n",
    "simulated_prices_FB = [last_price_FB]\n",
    "simulated_prices_GOOG = [last_price_GOOG]\n",
    "\n",
    "# Simulate future prices\n",
    "for _ in range(num_days):\n",
    "    next_price_FB = simulated_prices_FB[-1] * (1 + np.random.normal(mean_returns['FB'], std_returns['FB']))\n",
    "    next_price_GOOG = simulated_prices_GOOG[-1] * (1 + np.random.normal(mean_returns['GOOG'], std_returns['GOOG']))\n",
    "    simulated_prices_FB.append(next_price_FB)\n",
    "    simulated_prices_GOOG.append(next_price_GOOG)"
   ]
  },
  {
   "cell_type": "markdown",
   "metadata": {},
   "source": [
    "**Plot the Simulated Prices**:"
   ]
  },
  {
   "cell_type": "code",
   "execution_count": null,
   "metadata": {},
   "outputs": [],
   "source": [
    "# Create date range for future dates\n",
    "future_dates = pd.date_range(start=df.index[-1], periods=num_days+1, freq='B')\n",
    "\n",
    "# Plot the simulated prices\n",
    "plt.figure(figsize=(12,6))\n",
    "plt.plot(future_dates, simulated_prices_FB, label='FB Simulated Price')\n",
    "plt.plot(future_dates, simulated_prices_GOOG, label='GOOG Simulated Price')\n",
    "plt.title('Simulated Future Prices Over the Next 30 Days')\n",
    "plt.xlabel('Date')\n",
    "plt.ylabel('Price')\n",
    "plt.legend()\n",
    "plt.show()"
   ]
  },
  {
   "cell_type": "markdown",
   "metadata": {},
   "source": [
    "## Monte Carlo Simulation\n",
    "\n",
    "### 3. Estimate the Expected Price of GOOG Stock After 60 Days\n",
    "\n",
    "We’ll run 1,000 simulations to estimate the expected price.\n",
    "\n",
    "**Simulation Parameters**:"
   ]
  },
  {
   "cell_type": "code",
   "execution_count": null,
   "metadata": {},
   "outputs": [],
   "source": [
    "# Monte Carlo simulation parameters\n",
    "num_simulations = 1000\n",
    "num_days = 60\n",
    "start_price_GOOG = df['GOOG'][-1]"
   ]
  },
  {
   "cell_type": "markdown",
   "metadata": {},
   "source": [
    "**Run the Monte Carlo Simulation**:"
   ]
  },
  {
   "cell_type": "code",
   "execution_count": null,
   "metadata": {},
   "outputs": [],
   "source": [
    "# Array to store the ending prices\n",
    "ending_prices_GOOG = []\n",
    "\n",
    "for _ in range(num_simulations):\n",
    "    prices = [start_price_GOOG]\n",
    "    for _ in range(num_days):\n",
    "        next_price = prices[-1] * (1 + np.random.normal(mean_returns['GOOG'], std_returns['GOOG']))\n",
    "        prices.append(next_price)\n",
    "    ending_prices_GOOG.append(prices[-1])"
   ]
  },
  {
   "cell_type": "markdown",
   "metadata": {},
   "source": [
    "**Calculate the average ending price**:"
   ]
  },
  {
   "cell_type": "code",
   "execution_count": null,
   "metadata": {},
   "outputs": [],
   "source": [
    "average_ending_price = np.mean(ending_prices_GOOG)\n",
    "print(f\"The expected price of GOOG stock after {num_days} days is ${average_ending_price:.2f}\")"
   ]
  },
  {
   "cell_type": "markdown",
   "metadata": {},
   "source": [
    "**Plot the Distribution of Ending Prices**:"
   ]
  },
  {
   "cell_type": "code",
   "execution_count": null,
   "metadata": {},
   "outputs": [],
   "source": [
    "# Plot histogram of ending prices\n",
    "plt.figure(figsize=(10,6))\n",
    "plt.hist(ending_prices_GOOG, bins=50, color='skyblue', edgecolor='black')\n",
    "plt.title('Distribution of GOOG Ending Prices After 60 Days')\n",
    "plt.xlabel('Price')\n",
    "plt.ylabel('Frequency')\n",
    "plt.show()"
   ]
  },
  {
   "cell_type": "markdown",
   "metadata": {},
   "source": [
    "### 4. Estimate the Probability That FB Stock Price Will Exceed $150 After 30 Days\n",
    "\n",
    "**Simulation Parameters**:"
   ]
  },
  {
   "cell_type": "code",
   "execution_count": null,
   "metadata": {},
   "outputs": [],
   "source": [
    "# Monte Carlo simulation parameters\n",
    "num_simulations = 1000\n",
    "num_days = 30\n",
    "start_price_FB = df['FB'][-1]\n",
    "threshold_price = 150"
   ]
  },
  {
   "cell_type": "markdown",
   "metadata": {},
   "source": [
    "**Run Simulations**:"
   ]
  },
  {
   "cell_type": "code",
   "execution_count": null,
   "metadata": {},
   "outputs": [],
   "source": [
    "# Counter for simulations where price exceeds $150\n",
    "count_exceed = 0\n",
    "\n",
    "for _ in range(num_simulations):\n",
    "    prices = [start_price_FB]\n",
    "    for _ in range(num_days):\n",
    "        next_price = prices[-1] * (1 + np.random.normal(mean_returns['FB'], std_returns['FB']))\n",
    "        prices.append(next_price)\n",
    "    if prices[-1] > threshold_price:\n",
    "        count_exceed += 1"
   ]
  },
  {
   "cell_type": "markdown",
   "metadata": {},
   "source": [
    "**Calculate the Probability**:"
   ]
  },
  {
   "cell_type": "code",
   "execution_count": null,
   "metadata": {},
   "outputs": [],
   "source": [
    "probability_exceed = count_exceed / num_simulations\n",
    "print(f\"The probability that FB stock price will exceed ${threshold_price} after {num_days} days is {probability_exceed:.2%}\")"
   ]
  },
  {
   "cell_type": "markdown",
   "metadata": {},
   "source": [
    "## Time Series Forecasting\n",
    "\n",
    "### 5. Forecast FB Stock Prices for the Next 10 Days Using an ARIMA Model\n",
    "\n",
    "**Check for Stationarity**:"
   ]
  },
  {
   "cell_type": "code",
   "execution_count": null,
   "metadata": {},
   "outputs": [],
   "source": [
    "# Perform Augmented Dickey-Fuller test\n",
    "result = adfuller(df['FB'])\n",
    "print('ADF Statistic: %f' % result[0])\n",
    "print('p-value: %f' % result[1])"
   ]
  },
  {
   "cell_type": "markdown",
   "metadata": {},
   "source": [
    "If the p-value is greater than 0.05, the series is non-stationary, and we need to difference it.\n",
    "\n",
    "**Fit ARIMA Model**:"
   ]
  },
  {
   "cell_type": "code",
   "execution_count": null,
   "metadata": {},
   "outputs": [],
   "source": [
    "# Fit ARIMA model using auto_arima to find optimal parameters\n",
    "model_FB = pm.auto_arima(df['FB'], seasonal=False, trace=True, error_action='ignore', suppress_warnings=True)\n",
    "print(model_FB.summary())"
   ]
  },
  {
   "cell_type": "markdown",
   "metadata": {},
   "source": [
    "**Forecast the Next 10 Days**:"
   ]
  },
  {
   "cell_type": "code",
   "execution_count": null,
   "metadata": {},
   "outputs": [],
   "source": [
    "# Forecast next 10 days\n",
    "n_days = 10\n",
    "forecast_FB, conf_int_FB = model_FB.predict(n_periods=n_days, return_conf_int=True)\n",
    "\n",
    "# Create date index for future dates\n",
    "forecast_dates_FB = pd.date_range(start=df.index[-1], periods=n_days+1, freq='B')[1:]\n",
    "\n",
    "# Plot the forecast\n",
    "plt.figure(figsize=(12,6))\n",
    "plt.plot(df['FB'], label='Historical FB Prices')\n",
    "plt.plot(forecast_dates_FB, forecast_FB, label='Forecasted FB Prices')\n",
    "plt.fill_between(forecast_dates_FB, conf_int_FB[:,0], conf_int_FB[:,1], color='pink', alpha=0.3)\n",
    "plt.title('FB Stock Price Forecast Using ARIMA Model')\n",
    "plt.xlabel('Date')\n",
    "plt.ylabel('Price')\n",
    "plt.legend()\n",
    "plt.show()"
   ]
  },
  {
   "cell_type": "markdown",
   "metadata": {},
   "source": [
    "### 6. Forecast GOOG Stock Prices Over the Next 10 Days Using Exponential Smoothing\n",
    "\n",
    "**Fit Exponential Smoothing Model**:"
   ]
  },
  {
   "cell_type": "code",
   "execution_count": null,
   "metadata": {},
   "outputs": [],
   "source": [
    "# Fit Exponential Smoothing model\n",
    "model_GOOG = ExponentialSmoothing(df['GOOG'], trend='add', seasonal=None).fit()"
   ]
  },
  {
   "cell_type": "markdown",
   "metadata": {},
   "source": [
    "**Forecast the Next 10 Days**:"
   ]
  },
  {
   "cell_type": "code",
   "execution_count": null,
   "metadata": {},
   "outputs": [],
   "source": [
    "# Forecast next 10 days\n",
    "forecast_GOOG = model_GOOG.forecast(steps=10)\n",
    "\n",
    "# Create date index for future dates\n",
    "forecast_dates_GOOG = pd.date_range(start=df.index[-1], periods=11, freq='B')[1:]\n",
    "\n",
    "# Plot the forecast\n",
    "plt.figure(figsize=(12,6))\n",
    "plt.plot(df['GOOG'], label='Historical GOOG Prices')\n",
    "plt.plot(forecast_dates_GOOG, forecast_GOOG, label='Forecasted GOOG Prices')\n",
    "plt.title('GOOG Stock Price Forecast Using Exponential Smoothing')\n",
    "plt.xlabel('Date')\n",
    "plt.ylabel('Price')\n",
    "plt.legend()\n",
    "plt.show()"
   ]
  }
 ],
 "metadata": {
  "kernelspec": {
   "display_name": ".conda",
   "language": "python",
   "name": "python3"
  },
  "language_info": {
   "codemirror_mode": {
    "name": "ipython",
    "version": 3
   },
   "file_extension": ".py",
   "mimetype": "text/x-python",
   "name": "python",
   "nbconvert_exporter": "python",
   "pygments_lexer": "ipython3",
   "version": "3.11.0"
  }
 },
 "nbformat": 4,
 "nbformat_minor": 2
}
